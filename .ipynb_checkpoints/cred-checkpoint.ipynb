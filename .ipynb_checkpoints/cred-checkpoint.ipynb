{
 "cells": [
  {
   "cell_type": "code",
   "execution_count": 1,
   "id": "72f73582",
   "metadata": {},
   "outputs": [],
   "source": [
    "client_ID='d84eae14b11c4a46b3c89fbdab15cdd3'\n",
    "client_SECRET='0e9c6543b13d4d518b7c142b05ae009e'   \n",
    "redirect_url='http://localhost:9000'"
   ]
  }
 ],
 "metadata": {
  "kernelspec": {
   "display_name": "Python 3 (ipykernel)",
   "language": "python",
   "name": "python3"
  },
  "language_info": {
   "codemirror_mode": {
    "name": "ipython",
    "version": 3
   },
   "file_extension": ".py",
   "mimetype": "text/x-python",
   "name": "python",
   "nbconvert_exporter": "python",
   "pygments_lexer": "ipython3",
   "version": "3.8.9"
  }
 },
 "nbformat": 4,
 "nbformat_minor": 5
}
